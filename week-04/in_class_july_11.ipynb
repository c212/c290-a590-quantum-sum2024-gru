{
  "nbformat": 4,
  "nbformat_minor": 0,
  "metadata": {
    "colab": {
      "provenance": []
    },
    "kernelspec": {
      "name": "python3",
      "display_name": "Python 3"
    },
    "language_info": {
      "name": "python"
    }
  },
  "cells": [
    {
      "cell_type": "code",
      "execution_count": null,
      "metadata": {
        "id": "k2bRRROV45Pr"
      },
      "outputs": [],
      "source": [
        "!pip install qiskit"
      ]
    },
    {
      "cell_type": "code",
      "source": [
        "!pip install pylatexenc"
      ],
      "metadata": {
        "collapsed": true,
        "id": "FZt8ARJm9EuJ"
      },
      "execution_count": null,
      "outputs": []
    },
    {
      "cell_type": "code",
      "source": [
        "import qiskit, pylatexenc\n",
        "from qiskit import QuantumCircuit\n",
        "from qiskit.quantum_info import Operator"
      ],
      "metadata": {
        "id": "X8U_4gMG9WE5"
      },
      "execution_count": 5,
      "outputs": []
    },
    {
      "cell_type": "code",
      "source": [
        "def circuit():\n",
        "  q = qiskit.QuantumCircuit(1)\n",
        "  q.h(0)\n",
        "  q.z(0)\n",
        "  q.h(0)\n",
        "  return q"
      ],
      "metadata": {
        "id": "K1Ve-2I49ljq"
      },
      "execution_count": 6,
      "outputs": []
    },
    {
      "cell_type": "code",
      "source": [
        "circuit().draw(output='mpl')"
      ],
      "metadata": {
        "colab": {
          "base_uri": "https://localhost:8080/",
          "height": 127
        },
        "id": "LphU60vv90l4",
        "outputId": "abfe3361-abe2-4ada-c047-60af3c683181"
      },
      "execution_count": 10,
      "outputs": [
        {
          "output_type": "execute_result",
          "data": {
            "text/plain": [
              "<Figure size 352.675x117.056 with 1 Axes>"
            ],
            "image/png": "[encoded data removed]"
          },
          "metadata": {},
          "execution_count": 10
        }
      ]
    },
    {
      "cell_type": "code",
      "source": [
        "Operator.from_circuit(circuit()).draw(output='latex')"
      ],
      "metadata": {
        "colab": {
          "base_uri": "https://localhost:8080/",
          "height": 58
        },
        "id": "w1oPUJTd91MY",
        "outputId": "6df000ae-daca-4668-a89d-c8ba7024ea42"
      },
      "execution_count": 11,
      "outputs": [
        {
          "output_type": "execute_result",
          "data": {
            "text/plain": [
              "<IPython.core.display.Latex object>"
            ],
            "text/latex": "$$\n\n\\begin{bmatrix}\n0 & 1  \\\\\n 1 & 0  \\\\\n \\end{bmatrix}\n$$"
          },
          "metadata": {},
          "execution_count": 11
        }
      ]
    },
    {
      "cell_type": "code",
      "source": [
        "def d():\n",
        "  q = qiskit.QuantumCircuit(1)\n",
        "  q.x(0)\n",
        "  q.z(0)\n",
        "  return q\n",
        "\n",
        "d().draw(output='mpl')"
      ],
      "metadata": {
        "colab": {
          "base_uri": "https://localhost:8080/",
          "height": 127
        },
        "id": "n6Hbau-B-JzQ",
        "outputId": "a64c707b-ff56-47e1-8e1a-5353d580c294"
      },
      "execution_count": 13,
      "outputs": [
        {
          "output_type": "execute_result",
          "data": {
            "text/plain": [
              "<Figure size 269.064x117.056 with 1 Axes>"
            ],
            "image/png": "[encoded data removed]"
          },
          "metadata": {},
          "execution_count": 13
        }
      ]
    },
    {
      "cell_type": "code",
      "source": [
        "Operator.from_circuit(d()).draw(output='latex')"
      ],
      "metadata": {
        "colab": {
          "base_uri": "https://localhost:8080/",
          "height": 58
        },
        "id": "qmnv-Y1W_MTB",
        "outputId": "e9451d00-e724-4bdb-c6d6-020957ea33b3"
      },
      "execution_count": 16,
      "outputs": [
        {
          "output_type": "execute_result",
          "data": {
            "text/plain": [
              "<IPython.core.display.Latex object>"
            ],
            "text/latex": "$$\n\n\\begin{bmatrix}\n0 & 1  \\\\\n -1 & 0  \\\\\n \\end{bmatrix}\n$$"
          },
          "metadata": {},
          "execution_count": 16
        }
      ]
    },
    {
      "cell_type": "code",
      "source": [
        "def example():\n",
        "  q = qiskit.QuantumCircuit(2)\n",
        "  q.x(1)\n",
        "  return q\n",
        "\n",
        "example().draw(output='mpl')"
      ],
      "metadata": {
        "colab": {
          "base_uri": "https://localhost:8080/",
          "height": 191
        },
        "id": "6S6XYwWS_UMp",
        "outputId": "524d3458-366c-4620-d3cd-cc9d440fe06b"
      },
      "execution_count": 27,
      "outputs": [
        {
          "output_type": "execute_result",
          "data": {
            "text/plain": [
              "<Figure size 203.683x200.667 with 1 Axes>"
            ],
            "image/png": "[encoded data removed]"
          },
          "metadata": {},
          "execution_count": 27
        }
      ]
    },
    {
      "cell_type": "code",
      "source": [
        "Operator.from_circuit(example()).draw(output='latex')"
      ],
      "metadata": {
        "colab": {
          "base_uri": "https://localhost:8080/",
          "height": 98
        },
        "id": "uIjLAeQUD7rU",
        "outputId": "5b93feef-6bb5-46ae-995b-718a60e4de32"
      },
      "execution_count": 28,
      "outputs": [
        {
          "output_type": "execute_result",
          "data": {
            "text/plain": [
              "<IPython.core.display.Latex object>"
            ],
            "text/latex": "$$\n\n\\begin{bmatrix}\n0 & 0 & 1 & 0  \\\\\n 0 & 0 & 0 & 1  \\\\\n 1 & 0 & 0 & 0  \\\\\n 0 & 1 & 0 & 0  \\\\\n \\end{bmatrix}\n$$"
          },
          "metadata": {},
          "execution_count": 28
        }
      ]
    },
    {
      "cell_type": "code",
      "source": [],
      "metadata": {
        "id": "vNB_LTG3EMyb"
      },
      "execution_count": null,
      "outputs": []
    }
  ]
}