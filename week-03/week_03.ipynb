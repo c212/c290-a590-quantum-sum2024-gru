{
  "nbformat": 4,
  "nbformat_minor": 0,
  "metadata": {
    "colab": {
      "provenance": []
    },
    "kernelspec": {
      "name": "python3",
      "display_name": "Python 3"
    },
    "language_info": {
      "name": "python"
    }
  },
  "cells": [
    {
      "cell_type": "code",
      "execution_count": null,
      "metadata": {
        "id": "vopjvb3_vQaM"
      },
      "outputs": [],
      "source": [
        "!pip install qiskit pylatexenc"
      ]
    },
    {
      "cell_type": "code",
      "source": [
        "from qiskit import QuantumCircuit"
      ],
      "metadata": {
        "id": "diBkoGeLvhxk"
      },
      "execution_count": 2,
      "outputs": []
    },
    {
      "cell_type": "code",
      "source": [
        "notiger = QuantumCircuit(2)\n",
        "notiger.x(0)\n",
        "notiger.x(1)\n",
        "notiger.barrier()\n",
        "notiger.h(0)\n",
        "notiger.h(1)\n",
        "notiger.barrier()\n",
        "# oracle is empty\n",
        "notiger.barrier()\n",
        "notiger.h(0)\n",
        "notiger.h(1)\n",
        "notiger.draw(output='mpl')"
      ],
      "metadata": {
        "colab": {
          "base_uri": "https://localhost:8080/",
          "height": 191
        },
        "id": "FLIP0WHgvmoD",
        "outputId": "707282b6-92ea-40a0-8190-44b96c6b6dad"
      },
      "execution_count": 10,
      "outputs": [
        {
          "output_type": "execute_result",
          "data": {
            "text/plain": [
              "<Figure size 621.739x200.667 with 1 Axes>"
            ],
            "image/png": "[encoded data removed]"
          },
          "metadata": {},
          "execution_count": 10
        }
      ]
    },
    {
      "cell_type": "code",
      "source": [
        "from qiskit.quantum_info import Statevector\n",
        "a = Statevector.from_instruction(notiger)\n",
        "a.draw('latex')"
      ],
      "metadata": {
        "colab": {
          "base_uri": "https://localhost:8080/",
          "height": 37
        },
        "id": "H4QyzEezvvq0",
        "outputId": "047740ae-4cbc-423c-c2f8-dfe3df776c30"
      },
      "execution_count": 11,
      "outputs": [
        {
          "output_type": "execute_result",
          "data": {
            "text/plain": [
              "<IPython.core.display.Latex object>"
            ],
            "text/latex": "$$ |11\\rangle$$"
          },
          "metadata": {},
          "execution_count": 11
        }
      ]
    },
    {
      "cell_type": "code",
      "source": [
        "blacktiger = QuantumCircuit(2)\n",
        "# set up the inputs to be |11> (black black)\n",
        "blacktiger.x(0)\n",
        "blacktiger.x(1)\n",
        "blacktiger.barrier()\n",
        "# add hadamards\n",
        "blacktiger.h(0)\n",
        "blacktiger.h(1)\n",
        "blacktiger.barrier()\n",
        "# add the oracle\n",
        "blacktiger.cx(0, 1)\n",
        "blacktiger.barrier()\n",
        "blacktiger.h(0)\n",
        "blacktiger.h(1)\n",
        "blacktiger.draw(output='mpl')"
      ],
      "metadata": {
        "colab": {
          "base_uri": "https://localhost:8080/",
          "height": 191
        },
        "id": "yBumoQHdwtbd",
        "outputId": "b5cb6067-ac50-4ef1-9c49-aaa318c22fdd"
      },
      "execution_count": 21,
      "outputs": [
        {
          "output_type": "execute_result",
          "data": {
            "text/plain": [
              "<Figure size 705.35x200.667 with 1 Axes>"
            ],
            "image/png": "[encoded data removed]"
          },
          "metadata": {},
          "execution_count": 21
        }
      ]
    },
    {
      "cell_type": "code",
      "source": [
        "from qiskit.quantum_info import Statevector\n",
        "a = Statevector.from_instruction(blacktiger)\n",
        "a.draw('latex')"
      ],
      "metadata": {
        "colab": {
          "base_uri": "https://localhost:8080/",
          "height": 37
        },
        "id": "HlNL9f0xx_Og",
        "outputId": "2454c0e7-3e5e-4803-d335-c59c5e03c8bb"
      },
      "execution_count": 22,
      "outputs": [
        {
          "output_type": "execute_result",
          "data": {
            "text/plain": [
              "<IPython.core.display.Latex object>"
            ],
            "text/latex": "$$ |10\\rangle$$"
          },
          "metadata": {},
          "execution_count": 22
        }
      ]
    },
    {
      "cell_type": "code",
      "source": [
        "whitetiger = QuantumCircuit(2)\n",
        "# set up the inputs to be |11> (black black)\n",
        "whitetiger.x(0)\n",
        "whitetiger.x(1)\n",
        "whitetiger.barrier()\n",
        "# add hadamards\n",
        "whitetiger.h(0)\n",
        "whitetiger.h(1)\n",
        "whitetiger.barrier()\n",
        "# add the oracle\n",
        "whitetiger.x(0)\n",
        "whitetiger.cx(0, 1)\n",
        "whitetiger.x(0)\n",
        "whitetiger.barrier()\n",
        "# end of oracle, now add trailing hadamards\n",
        "whitetiger.h(0)\n",
        "whitetiger.h(1)\n",
        "whitetiger.draw(output='mpl')"
      ],
      "metadata": {
        "colab": {
          "base_uri": "https://localhost:8080/",
          "height": 191
        },
        "id": "Oxo4rg4_0agJ",
        "outputId": "654d91ad-4545-402d-f9ae-d9d71d287a8d"
      },
      "execution_count": 23,
      "outputs": [
        {
          "output_type": "execute_result",
          "data": {
            "text/plain": [
              "<Figure size 872.572x200.667 with 1 Axes>"
            ],
            "image/png": "[encoded data removed]"
          },
          "metadata": {},
          "execution_count": 23
        }
      ]
    },
    {
      "cell_type": "code",
      "source": [
        "from qiskit.quantum_info import Statevector\n",
        "a = Statevector.from_instruction(whitetiger)\n",
        "a.draw('latex')"
      ],
      "metadata": {
        "colab": {
          "base_uri": "https://localhost:8080/",
          "height": 37
        },
        "id": "daks9vfS1b5S",
        "outputId": "1f4e5712-b94f-4d54-89b5-469daf5310b4"
      },
      "execution_count": 24,
      "outputs": [
        {
          "output_type": "execute_result",
          "data": {
            "text/plain": [
              "<IPython.core.display.Latex object>"
            ],
            "text/latex": "$$- |10\\rangle$$"
          },
          "metadata": {},
          "execution_count": 24
        }
      ]
    },
    {
      "cell_type": "code",
      "source": [
        "# add measurement\n",
        "whitetiger.measure_all()"
      ],
      "metadata": {
        "id": "fFhFErFJ2MMS"
      },
      "execution_count": 25,
      "outputs": []
    },
    {
      "cell_type": "code",
      "source": [
        "whitetiger.draw(output='mpl')"
      ],
      "metadata": {
        "colab": {
          "base_uri": "https://localhost:8080/",
          "height": 255
        },
        "id": "26A0FvBU20nj",
        "outputId": "06c7a30e-47dd-4287-912a-4b47c89e00f5"
      },
      "execution_count": 26,
      "outputs": [
        {
          "output_type": "execute_result",
          "data": {
            "text/plain": [
              "<Figure size 1165.66x284.278 with 1 Axes>"
            ],
            "image/png": "[encoded data removed]"
          },
          "metadata": {},
          "execution_count": 26
        }
      ]
    },
    {
      "cell_type": "code",
      "source": [
        "!pip install qiskit-aer"
      ],
      "metadata": {
        "id": "lNsiJsVI3PB2"
      },
      "execution_count": null,
      "outputs": []
    },
    {
      "cell_type": "code",
      "source": [
        "from qiskit_aer import AerSimulator\n",
        "aersim = AerSimulator()\n",
        "# transpile not needed"
      ],
      "metadata": {
        "id": "8P-9xGqN22-q"
      },
      "execution_count": 33,
      "outputs": []
    },
    {
      "cell_type": "code",
      "source": [
        "result = aersim.run(whitetiger).result()\n",
        "counts = result.get_counts(whitetiger)\n",
        "print(result.get_counts(whitetiger))"
      ],
      "metadata": {
        "colab": {
          "base_uri": "https://localhost:8080/"
        },
        "id": "jpemHiIX3LhT",
        "outputId": "990a63b0-ab41-460d-a8f8-07a9065f632d"
      },
      "execution_count": 34,
      "outputs": [
        {
          "output_type": "stream",
          "name": "stdout",
          "text": [
            "{'10': 1024}\n"
          ]
        }
      ]
    },
    {
      "cell_type": "code",
      "source": [
        "from qiskit.visualization import plot_histogram\n",
        "plot_histogram(counts, title='Tiger Behind White Door')"
      ],
      "metadata": {
        "colab": {
          "base_uri": "https://localhost:8080/",
          "height": 460
        },
        "id": "6nOkJGQv3QMD",
        "outputId": "ec7ca7a1-fed9-420d-9569-2ee27d734761"
      },
      "execution_count": 35,
      "outputs": [
        {
          "output_type": "execute_result",
          "data": {
            "text/plain": [
              "<Figure size 640x480 with 1 Axes>"
            ],
            "image/png": "[encoded data removed]"
          },
          "metadata": {},
          "execution_count": 35
        }
      ]
    },
    {
      "cell_type": "code",
      "source": [
        "# the point was to show the phase does not appear in the measurements"
      ],
      "metadata": {
        "id": "0zpysDKw3-Jj"
      },
      "execution_count": null,
      "outputs": []
    }
  ]
}