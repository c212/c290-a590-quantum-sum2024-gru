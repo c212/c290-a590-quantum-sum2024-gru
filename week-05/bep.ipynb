{
  "nbformat": 4,
  "nbformat_minor": 0,
  "metadata": {
    "colab": {
      "provenance": []
    },
    "kernelspec": {
      "name": "python3",
      "display_name": "Python 3"
    },
    "language_info": {
      "name": "python"
    }
  },
  "cells": [
    {
      "cell_type": "code",
      "source": [
        "!pip install qiskit pylatexenc"
      ],
      "metadata": {
        "id": "xcg4gfMR1EX0"
      },
      "execution_count": null,
      "outputs": []
    },
    {
      "cell_type": "code",
      "source": [
        "import qiskit, pylatexenc"
      ],
      "metadata": {
        "id": "_UXfQuMT1MZm"
      },
      "execution_count": 7,
      "outputs": []
    },
    {
      "cell_type": "code",
      "source": [
        "from qiskit import *\n",
        "import matplotlib.pyplot as plt"
      ],
      "metadata": {
        "id": "DiMvkuSK1XVd"
      },
      "execution_count": 8,
      "outputs": []
    },
    {
      "cell_type": "code",
      "source": [
        "a = QuantumCircuit(2)\n",
        "a.h(1)\n",
        "a.barrier()\n",
        "a.ch(1, 0)\n",
        "a.draw(output = 'mpl')"
      ],
      "metadata": {
        "colab": {
          "base_uri": "https://localhost:8080/",
          "height": 191
        },
        "id": "UMoCP8VP1f7-",
        "outputId": "e0b8abdf-0c8a-4fc2-da8a-19be6b39ce7a"
      },
      "execution_count": 10,
      "outputs": [
        {
          "output_type": "execute_result",
          "data": {
            "text/plain": [
              "<Figure size 370.906x200.667 with 1 Axes>"
            ],
            "image/png": "[encoded data removed]"
          },
          "metadata": {},
          "execution_count": 10
        }
      ]
    },
    {
      "cell_type": "code",
      "source": [
        "from qiskit.quantum_info import Statevector\n",
        "sv = Statevector.from_instruction(a)\n",
        "sv.draw('latex')"
      ],
      "metadata": {
        "colab": {
          "base_uri": "https://localhost:8080/",
          "height": 40
        },
        "id": "7SSmPYvL1nKf",
        "outputId": "ca20b38f-0c5f-4765-906c-31e9586fca1a"
      },
      "execution_count": 11,
      "outputs": [
        {
          "output_type": "execute_result",
          "data": {
            "text/plain": [
              "<IPython.core.display.Latex object>"
            ],
            "text/latex": "$$\\frac{\\sqrt{2}}{2} |00\\rangle+\\frac{1}{2} |10\\rangle+\\frac{1}{2} |11\\rangle$$"
          },
          "metadata": {},
          "execution_count": 11
        }
      ]
    },
    {
      "cell_type": "code",
      "source": [],
      "metadata": {
        "id": "vO6bNxxL13Dy"
      },
      "execution_count": null,
      "outputs": []
    }
  ]
}