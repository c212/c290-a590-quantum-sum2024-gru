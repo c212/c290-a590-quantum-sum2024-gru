{
  "nbformat": 4,
  "nbformat_minor": 0,
  "metadata": {
    "colab": {
      "provenance": []
    },
    "kernelspec": {
      "name": "python3",
      "display_name": "Python 3"
    },
    "language_info": {
      "name": "python"
    }
  },
  "cells": [
    {
      "cell_type": "code",
      "execution_count": 1,
      "metadata": {
        "colab": {
          "base_uri": "https://localhost:8080/"
        },
        "id": "pIVpzG87BUth",
        "outputId": "7fba5168-5b4d-47c2-9055-e314d0696de5"
      },
      "outputs": [
        {
          "output_type": "stream",
          "name": "stdout",
          "text": [
            "[(-sqrt(6)/3, sqrt(3)/3), (sqrt(6)/3, -sqrt(3)/3)]\n"
          ]
        }
      ],
      "source": [
        "from sympy import *\n",
        "\n",
        "a, b = symbols('a, b')\n",
        "eq1 = Eq(a/sqrt(3)+b*sqrt(2)/sqrt(3), 0)\n",
        "eq2 = Eq(a**2+b**2, 1)\n",
        "sol = solve([eq1, eq2], [a, b])\n",
        "print(sol)"
      ]
    },
    {
      "cell_type": "markdown",
      "source": [
        "**Question 1.** Add vectors\n",
        "$v = \\begin{pmatrix} i \\\\ 2 \\end{pmatrix}$\n",
        "and $w = \\begin{pmatrix} 3 \\\\ -100 \\end{pmatrix}$.\n",
        "\n",
        "See example 2.1 on page 32 in Martin LaForest.\n",
        "\n",
        "See also below"
      ],
      "metadata": {
        "id": "Muj20erlFu_Q"
      }
    },
    {
      "cell_type": "code",
      "source": [
        "import numpy as np\n",
        "v = np.array([[1j], [2]])\n",
        "w = np.array([[3], [-100]])\n",
        "print(v + w)\n",
        "# in WolframAlpha just type: {{i}, {2}} + {{3}, {-100}}"
      ],
      "metadata": {
        "colab": {
          "base_uri": "https://localhost:8080/"
        },
        "id": "MHRsMuHLFvr2",
        "outputId": "b9e9132a-a0e7-40e4-a949-a334951bd6ce"
      },
      "execution_count": 2,
      "outputs": [
        {
          "output_type": "stream",
          "name": "stdout",
          "text": [
            "[[  3.+1.j]\n",
            " [-98.+0.j]]\n"
          ]
        }
      ]
    },
    {
      "cell_type": "markdown",
      "source": [
        "**Question 2.**\n",
        "\n",
        "Calculate\n",
        "$\\begin{pmatrix} 3 & 3 & -1+2i \\\\ 1 & -3 & 0 \\end{pmatrix} + \\begin{pmatrix} 2 & -1 & i \\\\ 0 & 2 + 3i & -3\\end{pmatrix}$\n",
        "\n",
        "See example 2.4 on page 36 in Martin LaForest."
      ],
      "metadata": {
        "id": "99O1_B91GCTm"
      }
    },
    {
      "cell_type": "code",
      "source": [
        "# import numpy as np\n",
        "a = np.array([[3, 3, -1+2j], [1, -3, 0]])\n",
        "b = np.array([[2, -1, 1j], [0, 2+3j, -3]])\n",
        "print(a + b)\n",
        "# in WolframAlpha just type:\n",
        "# {{3, 3, -1+2i}, {1, -3, 0}} + {{2, -1, i}, {0, 2+3i, -3}}"
      ],
      "metadata": {
        "colab": {
          "base_uri": "https://localhost:8080/"
        },
        "id": "3fDdVyUeGDuV",
        "outputId": "1e858603-7b8e-4d5a-b428-b6c0e2636c15"
      },
      "execution_count": 4,
      "outputs": [
        {
          "output_type": "stream",
          "name": "stdout",
          "text": [
            "[[ 5.+0.j  2.+0.j -1.+3.j]\n",
            " [ 1.+0.j -1.+3.j -3.+0.j]]\n"
          ]
        }
      ]
    },
    {
      "cell_type": "markdown",
      "source": [
        "**Question 3.** First let's review how we can improve the output of these calculations."
      ],
      "metadata": {
        "id": "y2LyuxVtGr6p"
      }
    },
    {
      "cell_type": "code",
      "source": [
        "import numpy as np\n",
        "import sympy as sym\n",
        "from IPython.display import display, Math\n",
        "A = np.array([[12, 5, 2],\n",
        "       [20, 4, 8],\n",
        "       [ 2, 4, 3],\n",
        "       [ 7, 1,10]])\n",
        "A = sym.Matrix(A)\n",
        "display(A)"
      ],
      "metadata": {
        "colab": {
          "base_uri": "https://localhost:8080/",
          "height": 98
        },
        "id": "g72aFMLYG2jn",
        "outputId": "c657bcee-8846-47ed-d24a-6f796f6974f8"
      },
      "execution_count": 5,
      "outputs": [
        {
          "output_type": "display_data",
          "data": {
            "text/plain": [
              "Matrix([\n",
              "[12, 5,  2],\n",
              "[20, 4,  8],\n",
              "[ 2, 4,  3],\n",
              "[ 7, 1, 10]])"
            ],
            "text/latex": "$\\displaystyle \\left[\\begin{matrix}12 & 5 & 2\\\\20 & 4 & 8\\\\2 & 4 & 3\\\\7 & 1 & 10\\end{matrix}\\right]$"
          },
          "metadata": {}
        }
      ]
    },
    {
      "cell_type": "code",
      "source": [
        "a = np.array([[3, 3, -1+2j], [1, -3, 0]])\n",
        "b = np.array([[2, -1, 1j], [0, 2+3j, -3]])\n",
        "sum = a + b\n",
        "display(sym.Matrix(sum))"
      ],
      "metadata": {
        "colab": {
          "base_uri": "https://localhost:8080/",
          "height": 58
        },
        "id": "g7yV49w4G-eo",
        "outputId": "a5e732b6-014a-4683-e355-201fefda00cd"
      },
      "execution_count": 6,
      "outputs": [
        {
          "output_type": "display_data",
          "data": {
            "text/plain": [
              "Matrix([\n",
              "[5.0,          2.0, -1.0 + 3.0*I],\n",
              "[1.0, -1.0 + 3.0*I,         -3.0]])"
            ],
            "text/latex": "$\\displaystyle \\left[\\begin{matrix}5.0 & 2.0 & -1.0 + 3.0 i\\\\1.0 & -1.0 + 3.0 i & -3.0\\end{matrix}\\right]$"
          },
          "metadata": {}
        }
      ]
    },
    {
      "cell_type": "markdown",
      "source": [
        "Now let's calculate $2 \\cdot \\begin{pmatrix} 3 & 3 & -1 + 2i \\\\ 1 & -3 & 0 \\end{pmatrix}$.\n",
        "\n",
        "See page 36 in Martin LaForest's document (example 2.4)."
      ],
      "metadata": {
        "id": "JRiYeY7qHz8o"
      }
    },
    {
      "cell_type": "code",
      "source": [
        "a = np.array([[3, 3, -1+2j], [1, -3, 0]])\n",
        "result = 2 * a\n",
        "display(sym.Matrix(result))\n",
        "# in WolframAlpha just type:\n",
        "# 2 * {{3, 3, -1+2i}, {1, -3, 0}}"
      ],
      "metadata": {
        "colab": {
          "base_uri": "https://localhost:8080/",
          "height": 58
        },
        "id": "Zazsj3Q9H1_O",
        "outputId": "f176558b-08b6-41b5-f25e-c62108482220"
      },
      "execution_count": 8,
      "outputs": [
        {
          "output_type": "display_data",
          "data": {
            "text/plain": [
              "Matrix([\n",
              "[6.0,  6.0, -2.0 + 4.0*I],\n",
              "[2.0, -6.0,            0]])"
            ],
            "text/latex": "$\\displaystyle \\left[\\begin{matrix}6.0 & 6.0 & -2.0 + 4.0 i\\\\2.0 & -6.0 & 0\\end{matrix}\\right]$"
          },
          "metadata": {}
        }
      ]
    },
    {
      "cell_type": "markdown",
      "source": [
        "**Question 4.** Calculate $\\begin{pmatrix} 2 & 3 & i \\\\ 3 & -2 & 1 \\end{pmatrix} \\cdot \\begin{pmatrix} 0 & 1 \\\\ 0 & 12 \\\\ 3 & -2 \\end{pmatrix}$\n",
        "\n",
        "See Definition 2.24 on page 36 and explanations on pp. 37, 38.\n",
        "\n",
        "This is Example 2.7 on page 39. Practice calculating by hand as explained."
      ],
      "metadata": {
        "id": "02nc54p7IQeS"
      }
    },
    {
      "cell_type": "code",
      "source": [
        "a = np.array([[2, 3, 1j], [3, -2, 1]])\n",
        "b = np.array([[0, 1], [0, 12], [3, -2]])\n",
        "result = np.dot(a, b)\n",
        "display(sym.Matrix(result))\n",
        "# in WolframAlpha just type:\n",
        "# {{2, 3, i}, {3, -2, 1}} * {{0, 1}, {0, 12}, {3, -2}}"
      ],
      "metadata": {
        "colab": {
          "base_uri": "https://localhost:8080/",
          "height": 58
        },
        "id": "V44WR74fIRBW",
        "outputId": "63a1b94b-24f1-49ca-841e-ed454d9497e5"
      },
      "execution_count": 9,
      "outputs": [
        {
          "output_type": "display_data",
          "data": {
            "text/plain": [
              "Matrix([\n",
              "[3.0*I, 38.0 - 2.0*I],\n",
              "[  3.0,        -23.0]])"
            ],
            "text/latex": "$\\displaystyle \\left[\\begin{matrix}3.0 i & 38.0 - 2.0 i\\\\3.0 & -23.0\\end{matrix}\\right]$"
          },
          "metadata": {}
        }
      ]
    },
    {
      "cell_type": "markdown",
      "source": [
        "**Question 5.** Calculate $\\begin{pmatrix} 1 & 0 \\\\ 0 & -1 \\end{pmatrix} \\cdot \\begin{pmatrix} 3 \\\\ 2 \\end{pmatrix}$\n",
        "\n",
        "This is Example 2.7 on page 39."
      ],
      "metadata": {
        "id": "HDxO6NcOJCLp"
      }
    },
    {
      "cell_type": "code",
      "source": [
        "a = np.array([[1, 0], [0, -1]])\n",
        "b = np.array([[3], [2]])\n",
        "result = np.dot(a, b)\n",
        "display(sym.Matrix(result))\n",
        "# in WolframAlpha just type:\n",
        "# {{1, 0}, {0, -1}} * {{3}, {2}}"
      ],
      "metadata": {
        "colab": {
          "base_uri": "https://localhost:8080/",
          "height": 58
        },
        "id": "G5yencoyJDzm",
        "outputId": "636fd277-d3da-4f86-e1ff-4000ff7fbc59"
      },
      "execution_count": 11,
      "outputs": [
        {
          "output_type": "display_data",
          "data": {
            "text/plain": [
              "Matrix([\n",
              "[ 3],\n",
              "[-2]])"
            ],
            "text/latex": "$\\displaystyle \\left[\\begin{matrix}3\\\\-2\\end{matrix}\\right]$"
          },
          "metadata": {}
        }
      ]
    },
    {
      "cell_type": "markdown",
      "source": [
        "**Question 6.** Calculate $\\begin{pmatrix} -1 & 0 \\\\ 0 & 1 \\end{pmatrix} \\cdot \\begin{pmatrix} v_1 \\\\ v_2 \\end{pmatrix}$.\n",
        "\n",
        "This is example 2.8 on pp. 39, 40 in Martin LaForest's booklet."
      ],
      "metadata": {
        "id": "uvqkJROxJWbR"
      }
    },
    {
      "cell_type": "code",
      "source": [
        "from sympy import symbols\n",
        "v1, v2 = symbols('v1 v2')\n",
        "a = np.array([[-1, 0], [0, 1]])\n",
        "b = np.array([[v1], [v2]])\n",
        "result = np.dot(a, b)\n",
        "display(sym.Matrix(result))\n",
        "# in WolframAlpha just type:\n",
        "# {{-1, 0}, {0, 1}} * {{v1}, {v2}}"
      ],
      "metadata": {
        "colab": {
          "base_uri": "https://localhost:8080/",
          "height": 58
        },
        "id": "efkQ4YfGJXB-",
        "outputId": "2582e881-601b-460d-b1e5-f7e0abd19005"
      },
      "execution_count": 12,
      "outputs": [
        {
          "output_type": "display_data",
          "data": {
            "text/plain": [
              "Matrix([\n",
              "[-v1],\n",
              "[ v2]])"
            ],
            "text/latex": "$\\displaystyle \\left[\\begin{matrix}- v_{1}\\\\v_{2}\\end{matrix}\\right]$"
          },
          "metadata": {}
        }
      ]
    },
    {
      "cell_type": "markdown",
      "source": [
        "**Question 7.** If $M = \\begin{pmatrix} 1 & 2 \\\\ 3 & 1 \\end{pmatrix}$ and $N = \\begin{pmatrix} 4 & 3 \\\\ 2 & 1 \\end{pmatrix}$ calculate $MN$ and $NM$.\n",
        "\n",
        "This is observation 2.2.8 on page 40 in Martin LaForest's booklet."
      ],
      "metadata": {
        "id": "tJfsrVrXJ9Fa"
      }
    },
    {
      "cell_type": "code",
      "source": [
        "M = np.array([[1, 2], [3, 1]])\n",
        "N = np.array([[4, 3], [2, 1]])\n",
        "mn = np.dot(M, N)\n",
        "nm = np.dot(N, M)\n",
        "display(sym.Matrix(nm))\n",
        "print(\"---------\")\n",
        "display(sym.Matrix(mn))\n",
        "# in WolframAlpha just type:\n",
        "# {{1, 2}, {3, 1}} * {{4, 3}, {2, 1}}\n",
        "# and then {{4, 3}, {2, 1}} * {{1, 2}, {3, 1}}"
      ],
      "metadata": {
        "colab": {
          "base_uri": "https://localhost:8080/",
          "height": 116
        },
        "id": "9Xh7NXlbJgpm",
        "outputId": "41813413-dd6f-41d3-80da-2f2b8ab62baa"
      },
      "execution_count": 13,
      "outputs": [
        {
          "output_type": "display_data",
          "data": {
            "text/plain": [
              "Matrix([\n",
              "[13, 11],\n",
              "[ 5,  5]])"
            ],
            "text/latex": "$\\displaystyle \\left[\\begin{matrix}13 & 11\\\\5 & 5\\end{matrix}\\right]$"
          },
          "metadata": {}
        },
        {
          "output_type": "stream",
          "name": "stdout",
          "text": [
            "---------\n"
          ]
        },
        {
          "output_type": "display_data",
          "data": {
            "text/plain": [
              "Matrix([\n",
              "[ 8,  5],\n",
              "[14, 10]])"
            ],
            "text/latex": "$\\displaystyle \\left[\\begin{matrix}8 & 5\\\\14 & 10\\end{matrix}\\right]$"
          },
          "metadata": {}
        }
      ]
    },
    {
      "cell_type": "markdown",
      "source": [
        "**Question 8.** Calculate the complex conjugate of $M = \\begin{pmatrix} 1 & e^{-i\\frac{\\pi}{5}} \\\\ 3 - i & 10 \\end{pmatrix}$\n",
        "\n",
        "This is example 2.16 on page 48 of Martin LaForest's booklet."
      ],
      "metadata": {
        "id": "QV3rMQ6dKX-Q"
      }
    },
    {
      "cell_type": "code",
      "source": [
        "# in WolframAlpha just type:\n",
        "# complex conjugate of {{1,e^(-i*pi/5)},{3-i,10}}\n",
        "a = np.array([[1, np.exp(-1j*np.pi/5)], [3-1j, 10]])\n",
        "result = np.conj(a)\n",
        "display(sym.Matrix(result))\n",
        "# confirm top right entry by typing this\n",
        "# in WolframAlpha: e^(-i*pi/5))"
      ],
      "metadata": {
        "colab": {
          "base_uri": "https://localhost:8080/",
          "height": 58
        },
        "id": "xwCVTX3QKZAO",
        "outputId": "d785de2a-09e1-48de-f1af-4cbabf66111c"
      },
      "execution_count": 14,
      "outputs": [
        {
          "output_type": "display_data",
          "data": {
            "text/plain": [
              "Matrix([\n",
              "[        1.0, 0.809016994374947 + 0.587785252292473*I],\n",
              "[3.0 + 1.0*I,                                    10.0]])"
            ],
            "text/latex": "$\\displaystyle \\left[\\begin{matrix}1.0 & 0.809016994374947 + 0.587785252292473 i\\\\3.0 + 1.0 i & 10.0\\end{matrix}\\right]$"
          },
          "metadata": {}
        }
      ]
    },
    {
      "cell_type": "markdown",
      "source": [
        "Also look up: transpose and conjugate transpose (e.g., example 2.18, p. 49).\n",
        "\n",
        "**Question 9.** Calculate the inner product of $v = \\begin{pmatrix} i \\\\ 2+i \\end{pmatrix}$ and $w = \\begin{pmatrix} 2 \\\\ -1 \\end{pmatrix}$.\n",
        "\n",
        "This is example 2.19 on page 51 in the Martin LaForest booklet."
      ],
      "metadata": {
        "id": "T_3e-a0HLcYB"
      }
    },
    {
      "cell_type": "code",
      "source": [
        "v = np.array([1j, 2+1j])\n",
        "w = np.array([2, -1])\n",
        "result = np.dot(np.conj(v).T, w)\n",
        "print(result)\n",
        "# in Wolfram Alpha type\n",
        "# something like {a, b} * {c, d}\n",
        "\n",
        "# But watch out what he says when the vectors have complex components!"
      ],
      "metadata": {
        "colab": {
          "base_uri": "https://localhost:8080/"
        },
        "id": "qHK3qeDrKxwH",
        "outputId": "10a83e3e-68db-407d-fcd5-8ffac3479754"
      },
      "execution_count": 22,
      "outputs": [
        {
          "output_type": "stream",
          "name": "stdout",
          "text": [
            "(-2-1j)\n"
          ]
        }
      ]
    },
    {
      "cell_type": "markdown",
      "source": [
        "**Question 10.** Same for $\\begin{pmatrix} i \\\\ i \\end{pmatrix}$ and $\\begin{pmatrix} 1 \\\\ -1 \\end{pmatrix}$.\n",
        "\n",
        "This is example 2.22 on p. 52 in Martin LaForest."
      ],
      "metadata": {
        "id": "lhaW70mmM2oS"
      }
    },
    {
      "cell_type": "markdown",
      "source": [
        "**Question 11.** How long is the vector $\\begin{pmatrix} 1 \\\\ -2 \\\\ i \\end{pmatrix}$ ?\n",
        "\n",
        "This is example 2.23 on p. 54 in Martin's booklet."
      ],
      "metadata": {
        "id": "CF4u_oI9ND_o"
      }
    },
    {
      "cell_type": "code",
      "source": [
        "np.linalg.norm([1, -2, 1j])\n",
        "# in WolframAlpha type:\n",
        "# Norm[ {1, -2, i} ]"
      ],
      "metadata": {
        "colab": {
          "base_uri": "https://localhost:8080/"
        },
        "id": "1wd6ZZ5HNEeH",
        "outputId": "33a41de9-2819-48a6-9978-8fec99908175"
      },
      "execution_count": 16,
      "outputs": [
        {
          "output_type": "execute_result",
          "data": {
            "text/plain": [
              "2.449489742783178"
            ]
          },
          "metadata": {},
          "execution_count": 16
        }
      ]
    },
    {
      "cell_type": "code",
      "source": [
        "np.sqrt(6)"
      ],
      "metadata": {
        "colab": {
          "base_uri": "https://localhost:8080/"
        },
        "id": "hc3yuWvxNNmo",
        "outputId": "b14c1514-664e-41a5-9652-f73cd4defb05"
      },
      "execution_count": 17,
      "outputs": [
        {
          "output_type": "execute_result",
          "data": {
            "text/plain": [
              "2.449489742783178"
            ]
          },
          "metadata": {},
          "execution_count": 17
        }
      ]
    },
    {
      "cell_type": "markdown",
      "source": [
        "**Question 12.** Normalize the vector $\\begin{pmatrix} 1 \\\\ -2 \\end{pmatrix}$.\n",
        "\n",
        "This is example 2.25 on page 55 in Martin's booklet."
      ],
      "metadata": {
        "id": "Df4sGaAKNgch"
      }
    },
    {
      "cell_type": "code",
      "source": [
        "a = np.array([1, -2])\n",
        "result = a / np.linalg.norm(a)\n",
        "print(result)\n",
        "# in WolframAlpha type:\n",
        "# Normalize[ {1, -2} ]"
      ],
      "metadata": {
        "colab": {
          "base_uri": "https://localhost:8080/"
        },
        "id": "S6haxo4ENg9_",
        "outputId": "d683e981-3777-4f02-b69c-a38914e49d76"
      },
      "execution_count": 18,
      "outputs": [
        {
          "output_type": "stream",
          "name": "stdout",
          "text": [
            "[ 0.4472136  -0.89442719]\n"
          ]
        }
      ]
    },
    {
      "cell_type": "code",
      "source": [
        "(1/np.sqrt(5), -2/np.sqrt(5))"
      ],
      "metadata": {
        "colab": {
          "base_uri": "https://localhost:8080/"
        },
        "id": "qQQegjVaNscQ",
        "outputId": "917f5999-0191-4499-fbb7-b11574038b9d"
      },
      "execution_count": 19,
      "outputs": [
        {
          "output_type": "execute_result",
          "data": {
            "text/plain": [
              "(0.4472135954999579, -0.8944271909999159)"
            ]
          },
          "metadata": {},
          "execution_count": 19
        }
      ]
    },
    {
      "cell_type": "markdown",
      "source": [
        "**Question 13.** Is this a unitary matrix $X = \\begin{pmatrix} 0 & 1 \\\\ 1 & 0 \\end{pmatrix}$ ?\n",
        "\n",
        "A matrix is unitary if its transpose conjugate is its inverse.\n",
        "\n",
        "This is example 2.38 on page 67 in Martin's booklet."
      ],
      "metadata": {
        "id": "W9cEKgD3N9lh"
      }
    },
    {
      "cell_type": "code",
      "source": [
        "X = np.array([[0, 1], [1, 0]])\n",
        "print(np.dot(X, np.conj(X).T))"
      ],
      "metadata": {
        "colab": {
          "base_uri": "https://localhost:8080/"
        },
        "id": "3du-CiRiN-jG",
        "outputId": "498a9d36-c5e6-42b4-de6e-bb8234814755"
      },
      "execution_count": 20,
      "outputs": [
        {
          "output_type": "stream",
          "name": "stdout",
          "text": [
            "[[1 0]\n",
            " [0 1]]\n"
          ]
        }
      ]
    },
    {
      "cell_type": "markdown",
      "source": [
        "**Question 14.** Same question for $Y = \\begin{pmatrix} 0 & -i \\\\ i & 0 \\end{pmatrix}$\n",
        "\n",
        "This is part of the same example 2.38 on page 67."
      ],
      "metadata": {
        "id": "AcyZn9UYPUO7"
      }
    },
    {
      "cell_type": "code",
      "source": [
        "Y = np.array([[0, -1j], [1j, 0]])\n",
        "print(np.dot(Y, np.conj(Y).T))"
      ],
      "metadata": {
        "colab": {
          "base_uri": "https://localhost:8080/"
        },
        "id": "P5NQgjSoPfQh",
        "outputId": "6b2664b2-1d5c-489d-b14c-2bf4fd28f66c"
      },
      "execution_count": 23,
      "outputs": [
        {
          "output_type": "stream",
          "name": "stdout",
          "text": [
            "[[1.+0.j 0.+0.j]\n",
            " [0.+0.j 1.+0.j]]\n"
          ]
        }
      ]
    },
    {
      "cell_type": "code",
      "source": [],
      "metadata": {
        "id": "FfEIGbqcPfyf"
      },
      "execution_count": null,
      "outputs": []
    }
  ]
}