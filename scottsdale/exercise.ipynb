{
  "nbformat": 4,
  "nbformat_minor": 0,
  "metadata": {
    "colab": {
      "provenance": []
    },
    "kernelspec": {
      "name": "python3",
      "display_name": "Python 3"
    },
    "language_info": {
      "name": "python"
    }
  },
  "cells": [
    {
      "cell_type": "code",
      "execution_count": null,
      "metadata": {
        "id": "8o5r5kOMATo3"
      },
      "outputs": [],
      "source": [
        "!pip install qiskit pylatexenc"
      ]
    },
    {
      "cell_type": "markdown",
      "source": [
        "Below we put together a two-qubit quantum circuit (with default inputs).\n",
        "\n",
        "Its purpose is to create an equal superposition of\n",
        "\n",
        "(a) $|0\\rangle$ and\n",
        "\n",
        "(b) an equal superposition of $|2\\rangle$ and $|3\\rangle$.\n",
        "\n",
        "That is, we want to create this state: $$\\frac{1}{\\sqrt{2}}|00\\rangle + \\frac{1}{\\sqrt{2}}|1\\rangle \\big(\\frac{1}{\\sqrt{2}}|0\\rangle + \\frac{1}{\\sqrt{2}}|1\\rangle\\big)$$"
      ],
      "metadata": {
        "id": "_tg_8lxtDnNC"
      }
    },
    {
      "cell_type": "code",
      "source": [
        "from qiskit import QuantumCircuit"
      ],
      "metadata": {
        "id": "GfTcdxfPAdue"
      },
      "execution_count": 2,
      "outputs": []
    },
    {
      "cell_type": "markdown",
      "source": [
        "I can argue that the following circuit clearly, transparently builds that state."
      ],
      "metadata": {
        "id": "vYl5HBj5vL1N"
      }
    },
    {
      "cell_type": "code",
      "source": [
        "qc = QuantumCircuit(2)\n",
        "qc.h(1)\n",
        "qc.ch(1,0)\n",
        "qc.draw(output='mpl')"
      ],
      "metadata": {
        "colab": {
          "base_uri": "https://localhost:8080/",
          "height": 191
        },
        "id": "bcdZWftMA4-U",
        "outputId": "dcaf80c4-6ed8-4b45-d40d-e27e9d0ea21b"
      },
      "execution_count": 3,
      "outputs": [
        {
          "output_type": "execute_result",
          "data": {
            "text/plain": [
              "<Figure size 287.294x200.667 with 1 Axes>"
            ],
            "image/png": "[encoded data removed]"
          },
          "metadata": {},
          "execution_count": 3
        }
      ]
    },
    {
      "cell_type": "markdown",
      "source": [
        "We can confirm that we obtain the desired output as follows:"
      ],
      "metadata": {
        "id": "uqmC2NC-J8I9"
      }
    },
    {
      "cell_type": "code",
      "source": [
        "from qiskit.quantum_info import Statevector\n",
        "sv = Statevector.from_instruction(qc)\n",
        "sv.draw('latex')"
      ],
      "metadata": {
        "colab": {
          "base_uri": "https://localhost:8080/",
          "height": 40
        },
        "id": "7v2zgycNBF55",
        "outputId": "88f37ea4-9ec0-4c1e-cc0f-a09974f29c17"
      },
      "execution_count": 4,
      "outputs": [
        {
          "output_type": "execute_result",
          "data": {
            "text/plain": [
              "<IPython.core.display.Latex object>"
            ],
            "text/latex": "$$\\frac{\\sqrt{2}}{2} |00\\rangle+\\frac{1}{2} |10\\rangle+\\frac{1}{2} |11\\rangle$$"
          },
          "metadata": {},
          "execution_count": 4
        }
      ]
    },
    {
      "cell_type": "markdown",
      "source": [
        "What if we want a similar one-qubit quantum circuit?\n",
        "\n",
        "The circuit should create an equal superposition of:\n",
        "\n",
        "(a) $|0\\rangle$ and\n",
        "\n",
        "(b) $|+⟩$ (which is an equal superposition of $|0\\rangle$ and $|1\\rangle$)\n",
        "\n",
        "The state we want to create is:\n",
        "\n",
        "$$\\frac{1}{\\sqrt{2}}|0\\rangle + \\frac{1}{\\sqrt{2}}\\big( \\frac{1}{\\sqrt{2}} |0\\rangle + \\frac{1}{\\sqrt{2}} |1\\rangle\\big)$$\n",
        "\n",
        "Notice this state is not normalized.\n",
        "\n",
        "When we normalize we get:\n",
        "\n",
        "$$\\frac{\\sqrt{2 + \\sqrt{2}}}{2}|0\\rangle + \\frac{\\sqrt{2 - \\sqrt{2}}}{2}|1\\rangle = \\cos{\\frac{\\pi}{8}}|0\\rangle + \\sin{\\frac{\\pi}{8}}|1\\rangle$$\n",
        "\n",
        "The chance of measuring a $|0\\rangle$ in this state is about $0.854$ (In the previous circuit the probabilities were $0.5$, $0.25$ and $0.25$ for the three possible measurement outcomes. Here, though, the two $|0\\rangle$ combine into more than $0.75$ probability for a total of about $0.854$)"
      ],
      "metadata": {
        "id": "0c7YxtyWGmTw"
      }
    },
    {
      "cell_type": "markdown",
      "source": [
        "Can we create this state with simple, fundamental one-qubit gates?\n",
        "\n",
        "I'm looking for something intuitive at the fundamental level like the first circuit.\n",
        "\n",
        "Thank you."
      ],
      "metadata": {
        "id": "2mdF3SQEr0X5"
      }
    },
    {
      "cell_type": "code",
      "source": [],
      "metadata": {
        "id": "QdsmBYQoxVed"
      },
      "execution_count": null,
      "outputs": []
    }
  ]
}