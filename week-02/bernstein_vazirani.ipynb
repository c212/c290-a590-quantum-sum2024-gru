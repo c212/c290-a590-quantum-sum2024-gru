{
  "nbformat": 4,
  "nbformat_minor": 0,
  "metadata": {
    "colab": {
      "provenance": []
    },
    "kernelspec": {
      "name": "python3",
      "display_name": "Python 3"
    },
    "language_info": {
      "name": "python"
    }
  },
  "cells": [
    {
      "cell_type": "code",
      "execution_count": null,
      "metadata": {
        "id": "f1Fvwsjq9nZ1"
      },
      "outputs": [],
      "source": [
        "!pip install qiskit pylatexenc"
      ]
    },
    {
      "cell_type": "code",
      "source": [
        "import qiskit"
      ],
      "metadata": {
        "id": "E_JeDOJf9yk0"
      },
      "execution_count": 78,
      "outputs": []
    },
    {
      "cell_type": "code",
      "source": [
        "from qiskit import *"
      ],
      "metadata": {
        "id": "XdtibIng97Hi"
      },
      "execution_count": 79,
      "outputs": []
    },
    {
      "cell_type": "code",
      "source": [
        "secretnumber = '1011' # '1110010001'\n",
        "indices = [0, 2, 3] # [1, 0, 2, 9, 5]\n",
        "n = len(secretnumber)\n",
        "circuit = QuantumCircuit(n+1, n)\n",
        "circuit.x(n)\n",
        "circuit.barrier()\n",
        "circuit.h(range(n))\n",
        "circuit.h(n)\n",
        "circuit.barrier()\n",
        "for index in indices:\n",
        "  circuit.cx(n-index-1, n)\n",
        "circuit.barrier()\n",
        "circuit.h(range(n))\n",
        "# circuit.h(n)\n",
        "circuit.barrier()"
      ],
      "metadata": {
        "colab": {
          "base_uri": "https://localhost:8080/"
        },
        "id": "NJOJi_1h986S",
        "outputId": "95d2f3f6-d581-4936-aa8c-9b25cbb55b97"
      },
      "execution_count": 80,
      "outputs": [
        {
          "output_type": "execute_result",
          "data": {
            "text/plain": [
              "CircuitInstruction(operation=Instruction(name='barrier', num_qubits=5, num_clbits=0, params=[]), qubits=(Qubit(QuantumRegister(5, 'q'), 0), Qubit(QuantumRegister(5, 'q'), 1), Qubit(QuantumRegister(5, 'q'), 2), Qubit(QuantumRegister(5, 'q'), 3), Qubit(QuantumRegister(5, 'q'), 4)), clbits=())"
            ]
          },
          "metadata": {},
          "execution_count": 80
        }
      ]
    },
    {
      "cell_type": "code",
      "source": [
        "circuit.draw(output='mpl')"
      ],
      "metadata": {
        "colab": {
          "base_uri": "https://localhost:8080/",
          "height": 449
        },
        "id": "bt-5Muiz-IDS",
        "outputId": "a835cd99-242c-4a9a-874b-551470f827af"
      },
      "execution_count": 81,
      "outputs": [
        {
          "output_type": "execute_result",
          "data": {
            "text/plain": [
              "<Figure size 956.385x535.111 with 1 Axes>"
            ],
            "image/png": "[encoded data removed]"
          },
          "metadata": {},
          "execution_count": 81
        }
      ]
    },
    {
      "cell_type": "code",
      "source": [
        "from qiskit.quantum_info import Statevector\n",
        "sv = Statevector.from_instruction(circuit)\n",
        "sv.draw('latex')"
      ],
      "metadata": {
        "colab": {
          "base_uri": "https://localhost:8080/",
          "height": 40
        },
        "id": "cOKpaMSF-Me6",
        "outputId": "f6d91495-0d1e-421f-ba01-eed272ab0b9e"
      },
      "execution_count": 82,
      "outputs": [
        {
          "output_type": "execute_result",
          "data": {
            "text/plain": [
              "<IPython.core.display.Latex object>"
            ],
            "text/latex": "$$\\frac{\\sqrt{2}}{2} |01011\\rangle- \\frac{\\sqrt{2}}{2} |11011\\rangle$$"
          },
          "metadata": {},
          "execution_count": 82
        }
      ]
    },
    {
      "cell_type": "code",
      "source": [
        "!pip install qiskit-aer"
      ],
      "metadata": {
        "id": "SoQI2Rli_Grd"
      },
      "execution_count": null,
      "outputs": []
    },
    {
      "cell_type": "code",
      "source": [
        "circuit.measure(range(n), range(n))\n",
        "\n",
        "from qiskit_aer import AerSimulator\n",
        "aersim = AerSimulator()\n",
        "circuit = transpile(circuit, aersim)"
      ],
      "metadata": {
        "id": "tfh1v271AI9u"
      },
      "execution_count": 84,
      "outputs": []
    },
    {
      "cell_type": "code",
      "source": [
        "result = aersim.run(circuit, shots = 1).result()\n",
        "counts = result.get_counts(circuit)"
      ],
      "metadata": {
        "id": "qzzRfea-_aPF"
      },
      "execution_count": 85,
      "outputs": []
    },
    {
      "cell_type": "code",
      "source": [
        "print(result.get_counts(circuit))"
      ],
      "metadata": {
        "colab": {
          "base_uri": "https://localhost:8080/"
        },
        "id": "sPuypGuN_ic-",
        "outputId": "6d079edf-6359-43f3-eedb-e4ec58d7f9dd"
      },
      "execution_count": 86,
      "outputs": [
        {
          "output_type": "stream",
          "name": "stdout",
          "text": [
            "{'1011': 1}\n"
          ]
        }
      ]
    },
    {
      "cell_type": "code",
      "source": [
        "import numpy as np\n",
        "\n",
        "# Import Qiskit\n",
        "from qiskit import QuantumCircuit, transpile\n",
        "from qiskit_aer import AerSimulator\n",
        "from qiskit.visualization import plot_histogram, plot_state_city\n",
        "import qiskit.quantum_info as qi\n",
        "\n",
        "plot_histogram(counts, title='Bernstein-Vazirani')\n",
        "# plot_histogram(counts, title='Bell-State counts')"
      ],
      "metadata": {
        "colab": {
          "base_uri": "https://localhost:8080/",
          "height": 476
        },
        "id": "Yi8hdMAH_3VR",
        "outputId": "29172ff4-6e6a-45a8-8bf5-88eeb59f9115"
      },
      "execution_count": 87,
      "outputs": [
        {
          "output_type": "execute_result",
          "data": {
            "text/plain": [
              "<Figure size 640x480 with 1 Axes>"
            ],
            "image/png": "[encoded data removed]"
          },
          "metadata": {},
          "execution_count": 87
        }
      ]
    },
    {
      "cell_type": "code",
      "source": [],
      "metadata": {
        "id": "GOdOnOV4BweX"
      },
      "execution_count": null,
      "outputs": []
    }
  ]
}