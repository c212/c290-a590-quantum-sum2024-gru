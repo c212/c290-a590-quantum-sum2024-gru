{
  "nbformat": 4,
  "nbformat_minor": 0,
  "metadata": {
    "colab": {
      "provenance": []
    },
    "kernelspec": {
      "name": "python3",
      "display_name": "Python 3"
    },
    "language_info": {
      "name": "python"
    }
  },
  "cells": [
    {
      "cell_type": "markdown",
      "source": [
        "Problem 1: What is the magnitude of $2 - \\sqrt{2}i$?"
      ],
      "metadata": {
        "id": "GmeHnCwjYJ18"
      }
    },
    {
      "cell_type": "markdown",
      "source": [
        "Problem 2: What is the complex conjugate of $e^\\frac{\\pi i}{3}$?\n",
        "\n",
        "Answer:"
      ],
      "metadata": {
        "id": "52mluYQjYdxW"
      }
    },
    {
      "cell_type": "markdown",
      "source": [
        "Problem 4: Determine which pairs of matrices below commute.\n",
        "\n",
        "(Matrices $A$ and $B$ are said to commute if $AB=BA$).\n",
        "\n",
        "(a) $$ \\begin{pmatrix}\n",
        "0 & 1\\\\\n",
        "1 & 0\n",
        "\\end{pmatrix} \\textrm{and} \\begin{pmatrix}\n",
        "1 & 0\\\\\n",
        "0 & 1\n",
        "\\end{pmatrix}$$\n",
        "\n",
        "(b) $$\\begin{pmatrix}\n",
        "0 & 1\\\\\n",
        "1 & 0\n",
        "\\end{pmatrix} \\textrm{and} \\begin{pmatrix}\n",
        "1 & 0\\\\\n",
        "0 & -1\n",
        "\\end{pmatrix}$$\n",
        "\n",
        "(c) $$\\begin{pmatrix}\n",
        "1 & 1\\\\\n",
        "1 & -1\n",
        "\\end{pmatrix} \\textrm{and} \\begin{pmatrix}\n",
        "0 & 1\\\\\n",
        "1 & 0\n",
        "\\end{pmatrix}$$\n",
        "\n",
        "(d) $$\\begin{pmatrix}\n",
        "1 & 1\\\\\n",
        "1 & -1\n",
        "\\end{pmatrix} \\textrm{and} \\begin{pmatrix}\n",
        "1 & 0\\\\\n",
        "0 & 1\n",
        "\\end{pmatrix}$$\n",
        "\n",
        "(e) $$\\begin{pmatrix}\n",
        "2 & 0\\\\\n",
        "0 & -1\n",
        "\\end{pmatrix} \\textrm{and} \\begin{pmatrix}\n",
        "3 & 0\\\\\n",
        "0 & 2\n",
        "\\end{pmatrix}$$\n"
      ],
      "metadata": {
        "id": "bAeyKyXAYpR-"
      }
    },
    {
      "cell_type": "markdown",
      "source": [
        "Problem 7: What is the inner product\n",
        "between the vectors $\\begin{pmatrix}\n",
        "\\frac{\\sqrt{3}}{2}\\\\[0.5ex]\n",
        "\\frac{1}{2}\n",
        "\\end{pmatrix} \\textrm{and}\n",
        "\\begin{pmatrix}\n",
        "\\frac{1}{2}\\\\[0.5ex]\n",
        "\\frac{\\sqrt{3}}{2}\n",
        "\\end{pmatrix}$ ?"
      ],
      "metadata": {
        "id": "7g_6H72xZAQM"
      }
    },
    {
      "cell_type": "markdown",
      "source": [
        "1. What is the magnitude of $2 - \\sqrt{2}i$?\n",
        "\n",
        "Answer: By definition $|a + bi| = \\sqrt{a^2+b^2}$.\n",
        "\n",
        "In our case $a = 2$ and $b=-\\sqrt{2}$.\n",
        "\n",
        "So $|2-\\sqrt{2}i| = \\sqrt{2^2+(-\\sqrt{2})^2} = \\sqrt{4+2} = \\sqrt{6}.$"
      ],
      "metadata": {
        "id": "aCebZdbVaKFs"
      }
    },
    {
      "cell_type": "markdown",
      "source": [
        "Question 2. What is the complex conjugate of $e^{\\frac{\\pi i}{3}}$?\n",
        "\n",
        "Answer: For every complex number $z = a + bi$ we have\n",
        "\n",
        "*   $z = a +ib = r e^{i\\theta} = r (\\cos{\\theta} + i \\sin{\\theta})$\n",
        "*   where $r = |z| = \\sqrt{a^2 + b^2}$ and $\\tan{\\theta}=\\frac{b}{a}$\n",
        "\n",
        "So for $e^{\\frac{\\pi i}{3}}$ we have $r = 1$ and $\\theta = \\frac{\\pi}{3}$ which means\n",
        "$z = \\cos{\\frac{\\pi}{3}} + i \\sin{\\frac{\\pi}{3}} = \\frac{1}{2} + i \\frac{\\sqrt{3}}{2}$.\n",
        "\n",
        "The complex conjugate of a complex number $z = a + i b$ is $z^* = a - i b$.\n"
      ],
      "metadata": {
        "id": "giUsY_2SawOl"
      }
    },
    {
      "cell_type": "code",
      "source": [
        "!pip install qiskit pylatexenc"
      ],
      "metadata": {
        "id": "69YTCXVHaxhD"
      },
      "execution_count": null,
      "outputs": []
    },
    {
      "cell_type": "code",
      "source": [
        "from qiskit import QuantumCircuit"
      ],
      "metadata": {
        "id": "khfL8Hyqg1KW"
      },
      "execution_count": 2,
      "outputs": []
    },
    {
      "cell_type": "code",
      "source": [
        "qc = QuantumCircuit(2)\n",
        "qc.x(0)"
      ],
      "metadata": {
        "colab": {
          "base_uri": "https://localhost:8080/"
        },
        "id": "RgM-xYBQhH42",
        "outputId": "e435378e-d85f-4f2f-8faa-aa8306dd5294"
      },
      "execution_count": 13,
      "outputs": [
        {
          "output_type": "execute_result",
          "data": {
            "text/plain": [
              "<qiskit.circuit.instructionset.InstructionSet at 0x7951fab7fb50>"
            ]
          },
          "metadata": {},
          "execution_count": 13
        }
      ]
    },
    {
      "cell_type": "code",
      "source": [
        "qc.draw(output='mpl')"
      ],
      "metadata": {
        "colab": {
          "base_uri": "https://localhost:8080/",
          "height": 191
        },
        "id": "YHuFKMNthKod",
        "outputId": "e2d0d918-8780-42f8-9b6a-db594159f929"
      },
      "execution_count": 14,
      "outputs": [
        {
          "output_type": "execute_result",
          "data": {
            "text/plain": [
              "<Figure size 203.683x200.667 with 1 Axes>"
            ],
            "image/png": "[encoded data removed]"
          },
          "metadata": {},
          "execution_count": 14
        }
      ]
    },
    {
      "cell_type": "code",
      "source": [
        "from qiskit.quantum_info import Statevector\n",
        "a = Statevector.from_instruction(qc)\n",
        "a.draw('latex')"
      ],
      "metadata": {
        "colab": {
          "base_uri": "https://localhost:8080/",
          "height": 37
        },
        "id": "Qz6THJqahOYl",
        "outputId": "0f261561-77d5-42b9-d86a-11e277ae2d30"
      },
      "execution_count": 15,
      "outputs": [
        {
          "output_type": "execute_result",
          "data": {
            "text/plain": [
              "<IPython.core.display.Latex object>"
            ],
            "text/latex": "$$ |01\\rangle$$"
          },
          "metadata": {},
          "execution_count": 15
        }
      ]
    },
    {
      "cell_type": "code",
      "source": [],
      "metadata": {
        "id": "DNaYP67ShVpM"
      },
      "execution_count": null,
      "outputs": []
    }
  ]
}