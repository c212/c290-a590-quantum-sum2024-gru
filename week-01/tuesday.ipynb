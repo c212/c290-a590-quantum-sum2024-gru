{
  "nbformat": 4,
  "nbformat_minor": 0,
  "metadata": {
    "colab": {
      "provenance": []
    },
    "kernelspec": {
      "name": "python3",
      "display_name": "Python 3"
    },
    "language_info": {
      "name": "python"
    }
  },
  "cells": [
    {
      "cell_type": "markdown",
      "source": [
        "**Problem 1.** Define fair as having an expected value of 0 (zero). Probability of rolling a $7$ is $\\frac{6}{36} = \\frac{1}{6}$.The expected value $(4 \\cdot \\frac{1}{6} - 1 \\cdot \\frac{5}{6}) = \\frac{4}{5} - \\frac{5}{6} = -\\frac{1}{6}$. Not fair. Fair would be with $5$ instead of $4$ for a win."
      ],
      "metadata": {
        "id": "gDZreHrQdjqq"
      }
    },
    {
      "cell_type": "code",
      "source": [
        "import random\n",
        "\n",
        "times = 1000000\n",
        "money = 0\n",
        "\n",
        "for i in range(times):\n",
        "  d1 = random.randint(1, 6)\n",
        "  d2 = random.randint(1, 6)\n",
        "  sum = d1 + d2\n",
        "  # print(d1, d2, sum)\n",
        "  if sum == 7:\n",
        "    money += 4\n",
        "  else:\n",
        "    money -= 1\n",
        "\n",
        "print (money/times)"
      ],
      "metadata": {
        "colab": {
          "base_uri": "https://localhost:8080/"
        },
        "id": "x4Ybvh8GfpkM",
        "outputId": "a7381ca1-2190-42ce-d396-bf324b11a158"
      },
      "execution_count": 22,
      "outputs": [
        {
          "output_type": "stream",
          "name": "stdout",
          "text": [
            "-0.169725\n"
          ]
        }
      ]
    },
    {
      "cell_type": "code",
      "source": [
        "count = 0\n",
        "\n",
        "for d1 in range(1, 7):\n",
        "  for d2 in range(1, 7):\n",
        "    for d3 in range(1, 7):\n",
        "      sum = d1 + d2 + d3\n",
        "      if sum not in [3, 5, 7, 11, 13, 17]:\n",
        "        count += 1\n",
        "      else:\n",
        "        pass\n",
        "\n",
        "print(count/(6 * 6 * 6))"
      ],
      "metadata": {
        "colab": {
          "base_uri": "https://localhost:8080/"
        },
        "id": "_vnxcJDmgUzq",
        "outputId": "5e0a7e0b-ace4-4c18-9344-be5ae4c59936"
      },
      "execution_count": 33,
      "outputs": [
        {
          "output_type": "stream",
          "name": "stdout",
          "text": [
            "0.6620370370370371\n"
          ]
        }
      ]
    },
    {
      "cell_type": "code",
      "source": [
        "count"
      ],
      "metadata": {
        "colab": {
          "base_uri": "https://localhost:8080/"
        },
        "id": "iDYMu9FkgqQR",
        "outputId": "2e74dc49-cdaf-48f4-d0f9-c8872ced1691"
      },
      "execution_count": 31,
      "outputs": [
        {
          "output_type": "execute_result",
          "data": {
            "text/plain": [
              "216"
            ]
          },
          "metadata": {},
          "execution_count": 31
        }
      ]
    },
    {
      "cell_type": "code",
      "source": [],
      "metadata": {
        "id": "4K7PZqGhjTl-"
      },
      "execution_count": null,
      "outputs": []
    }
  ]
}