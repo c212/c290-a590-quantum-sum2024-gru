{
  "nbformat": 4,
  "nbformat_minor": 0,
  "metadata": {
    "colab": {
      "provenance": []
    },
    "kernelspec": {
      "name": "python3",
      "display_name": "Python 3"
    },
    "language_info": {
      "name": "python"
    }
  },
  "cells": [
    {
      "cell_type": "markdown",
      "source": [
        "**Question 1.** What is the magnitude of $2 - \\sqrt{2}i$?\n",
        "\n",
        "**Answer:** By definition $|a + bi| = \\sqrt{a^2+b^2}$.\n",
        "\n",
        "In our case $a = 2$ and $b=-\\sqrt{2}$.\n",
        "\n",
        "So $|2-\\sqrt{2}i| = \\sqrt{2^2+(-\\sqrt{2})^2} = \\sqrt{4+2} = \\sqrt{6}.$"
      ],
      "metadata": {
        "id": "45LsaPrD_txY"
      }
    },
    {
      "cell_type": "markdown",
      "source": [
        "**Question 2.** What is the complex conjugate of $e^{\\frac{\\pi i}{3}}$?\n",
        "\n",
        "**Answer:** For every complex number $z = a + bi$ we have\n",
        "\n",
        "*   $z = a +ib = r e^{i\\theta} = r (\\cos{\\theta} + i \\sin{\\theta})$\n",
        "*   where $r = |z| = \\sqrt{a^2 + b^2}$ and $\\tan{\\theta}=\\frac{b}{a}$\n",
        "\n",
        "So for $e^{\\frac{\\pi i}{3}}$ we have $r = 1$ and $\\theta = \\frac{\\pi}{3}$ which means\n",
        "$z = \\cos{\\frac{\\pi}{3}} + i \\sin{\\frac{\\pi}{3}} = \\frac{1}{2} + i \\frac{\\sqrt{3}}{2}$.\n",
        "\n",
        "The complex conjugate of a complex number $z = a + i b$ is $z^* = a - i b$.\n",
        "\n",
        "So the answer to our question is: $\\frac{1}{2} - i \\frac{\\sqrt{3}}{2}$."
      ],
      "metadata": {
        "id": "a6EOErhoAOMJ"
      }
    },
    {
      "cell_type": "code",
      "source": [],
      "metadata": {
        "id": "PuOIKovLAihW"
      },
      "execution_count": null,
      "outputs": []
    }
  ]
}