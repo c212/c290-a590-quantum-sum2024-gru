{
  "nbformat": 4,
  "nbformat_minor": 0,
  "metadata": {
    "colab": {
      "provenance": []
    },
    "kernelspec": {
      "name": "python3",
      "display_name": "Python 3"
    },
    "language_info": {
      "name": "python"
    }
  },
  "cells": [
    {
      "cell_type": "markdown",
      "source": [
        "**Question 1.** What is the magnitude of $2 - \\sqrt{2}i$?\n",
        "\n",
        "**Answer:** By definition $|a + bi| = \\sqrt{a^2+b^2}$.\n",
        "\n",
        "In our case $a = 2$ and $b=-\\sqrt{2}$.\n",
        "\n",
        "So $|2-\\sqrt{2}i| = \\sqrt{2^2+(-\\sqrt{2})^2} = \\sqrt{4+2} = \\sqrt{6}.$"
      ],
      "metadata": {
        "id": "45LsaPrD_txY"
      }
    },
    {
      "cell_type": "markdown",
      "source": [
        "**Question 2.** What is the complex conjugate of $e^{\\frac{\\pi i}{3}}$?\n",
        "\n",
        "**Answer:** For every complex number $z = a + bi$ we have\n",
        "\n",
        "*   $z = a +ib = r e^{i\\theta} = r (\\cos{\\theta} + i \\sin{\\theta})$\n",
        "*   where $r = |z| = \\sqrt{a^2 + b^2}$ and $\\tan{\\theta}=\\frac{b}{a}$\n",
        "\n",
        "So for $e^{\\frac{\\pi i}{3}}$ we have $r = 1$ and $\\theta = \\frac{\\pi}{3}$ which means\n",
        "$z = \\cos{\\frac{\\pi}{3}} + i \\sin{\\frac{\\pi}{3}} = \\frac{1}{2} + i \\frac{\\sqrt{3}}{2}$.\n",
        "\n",
        "The complex conjugate of a complex number $z = a + i b$ is $z^* = a - i b$.\n",
        "\n",
        "So the answer to our question is: $\\frac{1}{2} - i \\frac{\\sqrt{3}}{2}$."
      ],
      "metadata": {
        "id": "a6EOErhoAOMJ"
      }
    },
    {
      "cell_type": "markdown",
      "source": [
        "**Question 1.** Add vectors\n",
        "$v = \\begin{pmatrix} i \\\\ 2 \\end{pmatrix}$\n",
        "and $w = \\begin{pmatrix} 3 \\\\ -100 \\end{pmatrix}$.\n",
        "\n",
        "See example 2.1 on page 32 in Martin LaForest.\n",
        "\n",
        "See also below. Basically the answer is:\n",
        "\n",
        "$v + w = \\begin{pmatrix} i \\\\ 3 \\end{pmatrix} +\n",
        "\\begin{pmatrix} 3 \\\\ -100 \\end{pmatrix} =\n",
        "\\begin{pmatrix} i + 3 \\\\ -98 \\end{pmatrix}$"
      ],
      "metadata": {
        "id": "Qqdw_BjBCjTR"
      }
    },
    {
      "cell_type": "code",
      "source": [
        "import numpy as np\n",
        "v = np.array([[1j], [2]])\n",
        "w = np.array([[3], [-100]])\n",
        "print(v + w)\n",
        "# in WolframAlpha just type: {{i}, {2}} + {{3}, {-100}}"
      ],
      "metadata": {
        "colab": {
          "base_uri": "https://localhost:8080/"
        },
        "id": "Estxutk3DPfh",
        "outputId": "3f71600d-b50e-4dac-ee0f-eeb665d3aaf7"
      },
      "execution_count": 3,
      "outputs": [
        {
          "output_type": "stream",
          "name": "stdout",
          "text": [
            "[[  3.+1.j]\n",
            " [-98.+0.j]]\n"
          ]
        }
      ]
    },
    {
      "cell_type": "markdown",
      "source": [
        "**Question 2.**\n",
        "\n",
        "Calculate $\\begin{pmatrix} 3 & 3 & -1+2i \\\\ 1 & -3 & 0 \\end{pmatrix}\n",
        "+ \\begin{pmatrix} 2 & -1 & i \\\\ 0 & 2 + 3i & -3\\end{pmatrix}$\n",
        "\n",
        "See example 2.4 on page 36 in Martin LaForest.\n"
      ],
      "metadata": {
        "id": "vggrkpHmFoqT"
      }
    },
    {
      "cell_type": "code",
      "source": [
        "# import numpy as np\n",
        "a = np.array([[3, 3, -1+2j], [1, -3, 0]])\n",
        "b = np.array([[2, -1, 1j], [0, 2+3j, -3]])\n",
        "print(a + b)\n",
        "# in WolframAlpha just type:\n",
        "# {{3, 3, -1+2i}, {1, -3, 0}} + {{2, -1, i}, {0, 2+3i, -3}}"
      ],
      "metadata": {
        "colab": {
          "base_uri": "https://localhost:8080/"
        },
        "id": "6DaBxQlaDeR4",
        "outputId": "59327e25-d518-47a6-c491-b799087cfa59"
      },
      "execution_count": 4,
      "outputs": [
        {
          "output_type": "stream",
          "name": "stdout",
          "text": [
            "[[ 5.+0.j  2.+0.j -1.+3.j]\n",
            " [ 1.+0.j -1.+3.j -3.+0.j]]\n"
          ]
        }
      ]
    },
    {
      "cell_type": "markdown",
      "source": [
        "**Question 3.** Calculate $2 \\cdot \\begin{pmatrix} 3 & 3 & -1 + 2i \\\\\n",
        "1 & -3 & 0 \\end{pmatrix}$.\n",
        "\n",
        "See page 36 example 2.4 in Martin LaForest."
      ],
      "metadata": {
        "id": "tb68JXurHYI8"
      }
    },
    {
      "cell_type": "code",
      "source": [
        "# import numpy as np\n",
        "a = np.array([[3, 3, -1+2j], [1, -3, 0]])\n",
        "print(2 * a)\n",
        "# Type 2 * {{3, 3, -1+2i}, {1, -3, 0}} in Wolfram Alpha"
      ],
      "metadata": {
        "colab": {
          "base_uri": "https://localhost:8080/"
        },
        "id": "9TdcUtxJH9AJ",
        "outputId": "36d6742e-9500-4942-9ade-ad985eb69309"
      },
      "execution_count": 5,
      "outputs": [
        {
          "output_type": "stream",
          "name": "stdout",
          "text": [
            "[[ 6.+0.j  6.+0.j -2.+4.j]\n",
            " [ 2.+0.j -6.+0.j  0.+0.j]]\n"
          ]
        }
      ]
    },
    {
      "cell_type": "code",
      "source": [],
      "metadata": {
        "id": "XhwM-24JIryZ"
      },
      "execution_count": null,
      "outputs": []
    }
  ]
}