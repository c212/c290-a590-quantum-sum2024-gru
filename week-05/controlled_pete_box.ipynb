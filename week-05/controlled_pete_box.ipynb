{
  "nbformat": 4,
  "nbformat_minor": 0,
  "metadata": {
    "colab": {
      "provenance": []
    },
    "kernelspec": {
      "name": "python3",
      "display_name": "Python 3"
    },
    "language_info": {
      "name": "python"
    }
  },
  "cells": [
    {
      "cell_type": "code",
      "execution_count": null,
      "metadata": {
        "id": "k2qwmMfF56J5"
      },
      "outputs": [],
      "source": [
        "!pip install qiskit pylatexenc"
      ]
    },
    {
      "cell_type": "code",
      "source": [
        "import qiskit, pylatexenc"
      ],
      "metadata": {
        "id": "AyjfCGgr9DMi"
      },
      "execution_count": 2,
      "outputs": []
    },
    {
      "cell_type": "code",
      "source": [
        "from qiskit import *\n",
        "import matplotlib.pyplot as plt"
      ],
      "metadata": {
        "id": "ZYvYZ3e_9PH8"
      },
      "execution_count": 3,
      "outputs": []
    },
    {
      "cell_type": "code",
      "source": [
        "a = QuantumCircuit(2)\n",
        "a.ch(0, 1)\n",
        "a.draw(output = 'mpl')"
      ],
      "metadata": {
        "colab": {
          "base_uri": "https://localhost:8080/",
          "height": 191
        },
        "id": "VezZrbHS9dP7",
        "outputId": "833bacdd-28c1-4a3a-f491-db2789d8f873"
      },
      "execution_count": 17,
      "outputs": [
        {
          "output_type": "execute_result",
          "data": {
            "text/plain": [
              "<Figure size 203.683x200.667 with 1 Axes>"
            ],
            "image/png": "[encoded data removed]"
          },
          "metadata": {},
          "execution_count": 17
        }
      ]
    },
    {
      "cell_type": "code",
      "source": [
        "from qiskit.quantum_info import Operator"
      ],
      "metadata": {
        "id": "f4AhwfLT9hBs"
      },
      "execution_count": 18,
      "outputs": []
    },
    {
      "cell_type": "code",
      "source": [
        "Operator.from_circuit(a).draw(output='latex')"
      ],
      "metadata": {
        "colab": {
          "base_uri": "https://localhost:8080/",
          "height": 105
        },
        "id": "790h41Ct9xGM",
        "outputId": "c10f8f1d-52fd-4d95-ecac-943319c9a047"
      },
      "execution_count": 19,
      "outputs": [
        {
          "output_type": "execute_result",
          "data": {
            "text/plain": [
              "<IPython.core.display.Latex object>"
            ],
            "text/latex": "$$\n\n\\begin{bmatrix}\n1 & 0 & 0 & 0  \\\\\n 0 & \\frac{\\sqrt{2}}{2} & 0 & \\frac{\\sqrt{2}}{2}  \\\\\n 0 & 0 & 1 & 0  \\\\\n 0 & \\frac{\\sqrt{2}}{2} & 0 & - \\frac{\\sqrt{2}}{2}  \\\\\n \\end{bmatrix}\n$$"
          },
          "metadata": {},
          "execution_count": 19
        }
      ]
    },
    {
      "cell_type": "code",
      "source": [
        "b = QuantumCircuit(2)\n",
        "b.ch(1, 0)\n",
        "b.draw(output = 'mpl')"
      ],
      "metadata": {
        "colab": {
          "base_uri": "https://localhost:8080/",
          "height": 191
        },
        "id": "2DyET_FZ94Ks",
        "outputId": "44cd5a1c-c453-4941-aa1e-a8ecc95e6709"
      },
      "execution_count": 20,
      "outputs": [
        {
          "output_type": "execute_result",
          "data": {
            "text/plain": [
              "<Figure size 203.683x200.667 with 1 Axes>"
            ],
            "image/png": "[encoded data removed]"
          },
          "metadata": {},
          "execution_count": 20
        }
      ]
    },
    {
      "cell_type": "code",
      "source": [
        "Operator.from_circuit(b).draw(output='latex')"
      ],
      "metadata": {
        "colab": {
          "base_uri": "https://localhost:8080/",
          "height": 105
        },
        "id": "jlfrGW3hBYee",
        "outputId": "20b19860-a9ab-41e4-8ee3-829dcf52aad3"
      },
      "execution_count": 21,
      "outputs": [
        {
          "output_type": "execute_result",
          "data": {
            "text/plain": [
              "<IPython.core.display.Latex object>"
            ],
            "text/latex": "$$\n\n\\begin{bmatrix}\n1 & 0 & 0 & 0  \\\\\n 0 & 1 & 0 & 0  \\\\\n 0 & 0 & \\frac{\\sqrt{2}}{2} & \\frac{\\sqrt{2}}{2}  \\\\\n 0 & 0 & \\frac{\\sqrt{2}}{2} & - \\frac{\\sqrt{2}}{2}  \\\\\n \\end{bmatrix}\n$$"
          },
          "metadata": {},
          "execution_count": 21
        }
      ]
    },
    {
      "cell_type": "code",
      "source": [],
      "metadata": {
        "id": "Q5NuIJCcBb3e"
      },
      "execution_count": null,
      "outputs": []
    }
  ]
}